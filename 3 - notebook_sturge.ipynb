{
 "cells": [
  {
   "cell_type": "markdown",
   "metadata": {},
   "source": [
    "## Regra de Sturge\n",
    "\n",
    "Otimiza o número de classe dentro de uma populção"
   ]
  },
  {
   "cell_type": "code",
   "execution_count": 1,
   "metadata": {},
   "outputs": [],
   "source": [
    "import pandas as pd\n",
    "import numpy as np\n",
    "import seaborn as sns"
   ]
  },
  {
   "cell_type": "code",
   "execution_count": 2,
   "metadata": {},
   "outputs": [],
   "source": [
    "data = pd.read_csv('dados.csv')\n"
   ]
  },
  {
   "cell_type": "code",
   "execution_count": 3,
   "metadata": {},
   "outputs": [
    {
     "data": {
      "text/plain": [
       "76840"
      ]
     },
     "execution_count": 3,
     "metadata": {},
     "output_type": "execute_result"
    }
   ],
   "source": [
    "# Capturando o número de registros da tabela\n",
    "# A função .shape retorna (nº de registros, nº variáveis)\n",
    "n = data.shape[0]\n",
    "n"
   ]
  },
  {
   "cell_type": "code",
   "execution_count": 4,
   "metadata": {},
   "outputs": [
    {
     "data": {
      "text/plain": [
       "17.285291187298853"
      ]
     },
     "execution_count": 4,
     "metadata": {},
     "output_type": "execute_result"
    }
   ],
   "source": [
    "k = 1 + (10/3) * np.log10(n)\n",
    "k"
   ]
  },
  {
   "cell_type": "markdown",
   "metadata": {},
   "source": [
    "### Resultado\n",
    "\n",
    "O resultado demonstra que baseado no número de registros presentes na base de dados a melhor maneira de visualizar os registros é dividindo em ~17.285291187298853 classes"
   ]
  },
  {
   "cell_type": "code",
   "execution_count": 5,
   "metadata": {},
   "outputs": [
    {
     "data": {
      "text/plain": [
       "17"
      ]
     },
     "execution_count": 5,
     "metadata": {},
     "output_type": "execute_result"
    }
   ],
   "source": [
    "# Método para arredondar resultado\n",
    "k = int(k.round(0))\n",
    "k"
   ]
  },
  {
   "cell_type": "markdown",
   "metadata": {},
   "source": [
    "## Criando DataFrame"
   ]
  },
  {
   "cell_type": "code",
   "execution_count": 6,
   "metadata": {},
   "outputs": [
    {
     "data": {
      "text/plain": [
       "(-200.001, 11764.706]       75594\n",
       "(11764.706, 23529.412]       1022\n",
       "(23529.412, 35294.118]        169\n",
       "(35294.118, 47058.824]         19\n",
       "(47058.824, 58823.529]         16\n",
       "(58823.529, 70588.235]          5\n",
       "(70588.235, 82352.941]          4\n",
       "(82352.941, 94117.647]          1\n",
       "(94117.647, 105882.353]         6\n",
       "(105882.353, 117647.059]        0\n",
       "(117647.059, 129411.765]        1\n",
       "(129411.765, 141176.471]        0\n",
       "(141176.471, 152941.176]        0\n",
       "(152941.176, 164705.882]        0\n",
       "(164705.882, 176470.588]        0\n",
       "(176470.588, 188235.294]        0\n",
       "(188235.294, 200000.0]          3\n",
       "Name: Renda, dtype: int64"
      ]
     },
     "execution_count": 6,
     "metadata": {},
     "output_type": "execute_result"
    }
   ],
   "source": [
    "# Calculo de Frequência\n",
    "\n",
    "frequencia_em_intervalo = pd.value_counts(\n",
    "    pd.cut(\n",
    "        x = data.Renda,\n",
    "        bins = 17, # Usando o resultado arrendondado da formúla Sturge\n",
    "        include_lowest=True\n",
    "    ),\n",
    "    sort=False\n",
    ")\n",
    "\n",
    "frequencia_em_intervalo"
   ]
  },
  {
   "cell_type": "code",
   "execution_count": 7,
   "metadata": {},
   "outputs": [
    {
     "data": {
      "text/plain": [
       "(-200.001, 11764.706]       98.378449\n",
       "(11764.706, 23529.412]       1.330036\n",
       "(23529.412, 35294.118]       0.219938\n",
       "(35294.118, 47058.824]       0.024727\n",
       "(47058.824, 58823.529]       0.020822\n",
       "(58823.529, 70588.235]       0.006507\n",
       "(70588.235, 82352.941]       0.005206\n",
       "(82352.941, 94117.647]       0.001301\n",
       "(94117.647, 105882.353]      0.007808\n",
       "(105882.353, 117647.059]     0.000000\n",
       "(117647.059, 129411.765]     0.001301\n",
       "(129411.765, 141176.471]     0.000000\n",
       "(141176.471, 152941.176]     0.000000\n",
       "(152941.176, 164705.882]     0.000000\n",
       "(164705.882, 176470.588]     0.000000\n",
       "(176470.588, 188235.294]     0.000000\n",
       "(188235.294, 200000.0]       0.003904\n",
       "Name: Renda, dtype: float64"
      ]
     },
     "execution_count": 7,
     "metadata": {},
     "output_type": "execute_result"
    }
   ],
   "source": [
    "# Calculo de percentual por distribuição\n",
    "percentual = pd.value_counts(\n",
    "    pd.cut(\n",
    "        x = data.Renda,\n",
    "        bins = 17, # Usando o resultado arrendondado da formúla Sturge\n",
    "        include_lowest=True\n",
    "    ),\n",
    "    sort=False,\n",
    "    normalize=True\n",
    ") * 100\n",
    "\n",
    "percentual"
   ]
  },
  {
   "cell_type": "code",
   "execution_count": 8,
   "metadata": {},
   "outputs": [
    {
     "data": {
      "text/html": [
       "<div>\n",
       "<style scoped>\n",
       "    .dataframe tbody tr th:only-of-type {\n",
       "        vertical-align: middle;\n",
       "    }\n",
       "\n",
       "    .dataframe tbody tr th {\n",
       "        vertical-align: top;\n",
       "    }\n",
       "\n",
       "    .dataframe thead th {\n",
       "        text-align: right;\n",
       "    }\n",
       "</style>\n",
       "<table border=\"1\" class=\"dataframe\">\n",
       "  <thead>\n",
       "    <tr style=\"text-align: right;\">\n",
       "      <th>Classes</th>\n",
       "      <th>Frequência</th>\n",
       "      <th>Percentual (%)</th>\n",
       "    </tr>\n",
       "  </thead>\n",
       "  <tbody>\n",
       "    <tr>\n",
       "      <th>(-200.001, 11764.706]</th>\n",
       "      <td>75594</td>\n",
       "      <td>98.378449</td>\n",
       "    </tr>\n",
       "    <tr>\n",
       "      <th>(11764.706, 23529.412]</th>\n",
       "      <td>1022</td>\n",
       "      <td>1.330036</td>\n",
       "    </tr>\n",
       "    <tr>\n",
       "      <th>(23529.412, 35294.118]</th>\n",
       "      <td>169</td>\n",
       "      <td>0.219938</td>\n",
       "    </tr>\n",
       "    <tr>\n",
       "      <th>(35294.118, 47058.824]</th>\n",
       "      <td>19</td>\n",
       "      <td>0.024727</td>\n",
       "    </tr>\n",
       "    <tr>\n",
       "      <th>(47058.824, 58823.529]</th>\n",
       "      <td>16</td>\n",
       "      <td>0.020822</td>\n",
       "    </tr>\n",
       "    <tr>\n",
       "      <th>(58823.529, 70588.235]</th>\n",
       "      <td>5</td>\n",
       "      <td>0.006507</td>\n",
       "    </tr>\n",
       "    <tr>\n",
       "      <th>(70588.235, 82352.941]</th>\n",
       "      <td>4</td>\n",
       "      <td>0.005206</td>\n",
       "    </tr>\n",
       "    <tr>\n",
       "      <th>(82352.941, 94117.647]</th>\n",
       "      <td>1</td>\n",
       "      <td>0.001301</td>\n",
       "    </tr>\n",
       "    <tr>\n",
       "      <th>(94117.647, 105882.353]</th>\n",
       "      <td>6</td>\n",
       "      <td>0.007808</td>\n",
       "    </tr>\n",
       "    <tr>\n",
       "      <th>(105882.353, 117647.059]</th>\n",
       "      <td>0</td>\n",
       "      <td>0.000000</td>\n",
       "    </tr>\n",
       "    <tr>\n",
       "      <th>(117647.059, 129411.765]</th>\n",
       "      <td>1</td>\n",
       "      <td>0.001301</td>\n",
       "    </tr>\n",
       "    <tr>\n",
       "      <th>(129411.765, 141176.471]</th>\n",
       "      <td>0</td>\n",
       "      <td>0.000000</td>\n",
       "    </tr>\n",
       "    <tr>\n",
       "      <th>(141176.471, 152941.176]</th>\n",
       "      <td>0</td>\n",
       "      <td>0.000000</td>\n",
       "    </tr>\n",
       "    <tr>\n",
       "      <th>(152941.176, 164705.882]</th>\n",
       "      <td>0</td>\n",
       "      <td>0.000000</td>\n",
       "    </tr>\n",
       "    <tr>\n",
       "      <th>(164705.882, 176470.588]</th>\n",
       "      <td>0</td>\n",
       "      <td>0.000000</td>\n",
       "    </tr>\n",
       "    <tr>\n",
       "      <th>(176470.588, 188235.294]</th>\n",
       "      <td>0</td>\n",
       "      <td>0.000000</td>\n",
       "    </tr>\n",
       "    <tr>\n",
       "      <th>(188235.294, 200000.0]</th>\n",
       "      <td>3</td>\n",
       "      <td>0.003904</td>\n",
       "    </tr>\n",
       "  </tbody>\n",
       "</table>\n",
       "</div>"
      ],
      "text/plain": [
       "Classes                   Frequência  Percentual (%)\n",
       "(-200.001, 11764.706]          75594       98.378449\n",
       "(11764.706, 23529.412]          1022        1.330036\n",
       "(23529.412, 35294.118]           169        0.219938\n",
       "(35294.118, 47058.824]            19        0.024727\n",
       "(47058.824, 58823.529]            16        0.020822\n",
       "(58823.529, 70588.235]             5        0.006507\n",
       "(70588.235, 82352.941]             4        0.005206\n",
       "(82352.941, 94117.647]             1        0.001301\n",
       "(94117.647, 105882.353]            6        0.007808\n",
       "(105882.353, 117647.059]           0        0.000000\n",
       "(117647.059, 129411.765]           1        0.001301\n",
       "(129411.765, 141176.471]           0        0.000000\n",
       "(141176.471, 152941.176]           0        0.000000\n",
       "(152941.176, 164705.882]           0        0.000000\n",
       "(164705.882, 176470.588]           0        0.000000\n",
       "(176470.588, 188235.294]           0        0.000000\n",
       "(188235.294, 200000.0]             3        0.003904"
      ]
     },
     "execution_count": 8,
     "metadata": {},
     "output_type": "execute_result"
    }
   ],
   "source": [
    "dist_dataframe_personalizada = pd.DataFrame({'Frequência':frequencia_em_intervalo, 'Percentual (%)':percentual} )\n",
    "dist_dataframe_personalizada.rename_axis('Classes', axis='columns', inplace=True)\n",
    "dist_dataframe_personalizada"
   ]
  },
  {
   "cell_type": "code",
   "execution_count": 21,
   "metadata": {},
   "outputs": [
    {
     "data": {
      "text/plain": [
       "<seaborn.axisgrid.FacetGrid at 0x2b558ea96f0>"
      ]
     },
     "execution_count": 21,
     "metadata": {},
     "output_type": "execute_result"
    },
    {
     "data": {
      "image/png": "[encoded data removed]",
      "text/plain": [
       "<Figure size 864x432 with 1 Axes>"
      ]
     },
     "metadata": {
      "needs_background": "light"
     },
     "output_type": "display_data"
    }
   ],
   "source": [
    "ax = sns.displot(data.Altura, kde=True)\n",
    "ax.figure.set_size_inches(12, 6)\n",
    "ax.set_titles('Distribuição de Frequência - Altura', fontsize=14)\n",
    "ax.set_xlabels('Metros', fontsize=14)\n",
    "ax"
   ]
  }
 ],
 "metadata": {
  "interpreter": {
   "hash": "fd5d4f22a73098adc79afbc839793db54246e79856d56736048c8750ff48e242"
  },
  "kernelspec": {
   "display_name": "Python 3.10.0 ('venv': venv)",
   "language": "python",
   "name": "python3"
  },
  "language_info": {
   "codemirror_mode": {
    "name": "ipython",
    "version": 3
   },
   "file_extension": ".py",
   "mimetype": "text/x-python",
   "name": "python",
   "nbconvert_exporter": "python",
   "pygments_lexer": "ipython3",
   "version": "3.10.0"
  },
  "orig_nbformat": 4
 },
 "nbformat": 4,
 "nbformat_minor": 2
}
