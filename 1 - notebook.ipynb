{
 "cells": [
  {
   "cell_type": "code",
   "execution_count": 1,
   "metadata": {},
   "outputs": [],
   "source": [
    "import pandas as pd\n",
    "import scipy as sci\n",
    "import numpy as np\n",
    "import seaborn as sea\n",
    "\n",
    "dado = pd.read_csv('dados.csv')"
   ]
  },
  {
   "cell_type": "code",
   "execution_count": 2,
   "metadata": {},
   "outputs": [
    {
     "name": "stdout",
     "output_type": "stream",
     "text": [
      "       UF  Sexo  Idade  Cor  Anos de Estudo  Renda    Altura\n",
      "0      11     0     23    8              12    800  1.603808\n",
      "1      11     1     23    2              12   1150  1.739790\n",
      "2      11     1     35    8              15    880  1.760444\n",
      "3      11     0     46    2               6   3500  1.783158\n",
      "4      11     1     47    8               9    150  1.690631\n",
      "...    ..   ...    ...  ...             ...    ...       ...\n",
      "76835  53     1     46    2              11    812  1.687030\n",
      "76836  53     0     30    4               7   1500  1.792934\n",
      "76837  53     0     32    8              12   1300  1.830587\n",
      "76838  53     0     57    8               4   1500  1.726344\n",
      "76839  53     0     38    8               4    900  1.658305\n",
      "\n",
      "[76840 rows x 7 columns]\n"
     ]
    }
   ],
   "source": [
    "print(dado)"
   ]
  },
  {
   "cell_type": "code",
   "execution_count": 18,
   "metadata": {},
   "outputs": [
    {
     "name": "stdout",
     "output_type": "stream",
     "text": [
      "Idade de 13 a 99\n"
     ]
    }
   ],
   "source": [
    "# Alternativa de escrita: dado.Idade.max()\n",
    "idade = dado['Idade']\n",
    "print(f'Idade de {idade.min()} a {idade.max()}')"
   ]
  },
  {
   "cell_type": "code",
   "execution_count": 20,
   "metadata": {},
   "outputs": [
    {
     "name": "stdout",
     "output_type": "stream",
     "text": [
      "0    53250\n",
      "1    23590\n",
      "Name: Sexo, dtype: int64\n"
     ]
    }
   ],
   "source": [
    "# Contagem por tipo de sexo\n",
    "sexo = dado.Sexo.value_counts()\n",
    "print(sexo)"
   ]
  },
  {
   "cell_type": "code",
   "execution_count": 26,
   "metadata": {},
   "outputs": [
    {
     "name": "stdout",
     "output_type": "stream",
     "text": [
      "0    69.299844\n",
      "1    30.700156\n",
      "Name: Sexo, dtype: float64\n"
     ]
    }
   ],
   "source": [
    "# Calculo percentual\n",
    "percent_sexo = dado['Sexo'].value_counts(normalize= True) * 100\n",
    "print(percent_sexo)"
   ]
  },
  {
   "cell_type": "code",
   "execution_count": 30,
   "metadata": {},
   "outputs": [
    {
     "name": "stdout",
     "output_type": "stream",
     "text": [
      "Sexo       Frequencia  Percentual\n",
      "Masculino       53250   69.299844\n",
      "Feminino        23590   30.700156\n"
     ]
    }
   ],
   "source": [
    "# Criando um data frame\n",
    "dist_freq_qualitativa = pd.DataFrame({'Frequencia':sexo, 'Percentual':percent_sexo})\n",
    "# Renomeia o index e salva a configuração\n",
    "dist_freq_qualitativa.rename(index={0:'Masculino', 1:'Feminino'}, inplace=True)\n",
    "# Seta o rótulo da primeira coluna\n",
    "dist_freq_qualitativa.rename_axis('Sexo', axis='columns', inplace= True)\n",
    "print(dist_freq_qualitativa)"
   ]
  }
 ],
 "metadata": {
  "interpreter": {
   "hash": "fd5d4f22a73098adc79afbc839793db54246e79856d56736048c8750ff48e242"
  },
  "kernelspec": {
   "display_name": "Python 3.10.0 ('venv': venv)",
   "language": "python",
   "name": "python3"
  },
  "language_info": {
   "codemirror_mode": {
    "name": "ipython",
    "version": 3
   },
   "file_extension": ".py",
   "mimetype": "text/x-python",
   "name": "python",
   "nbconvert_exporter": "python",
   "pygments_lexer": "ipython3",
   "version": "3.10.0"
  },
  "orig_nbformat": 4
 },
 "nbformat": 4,
 "nbformat_minor": 2
}
